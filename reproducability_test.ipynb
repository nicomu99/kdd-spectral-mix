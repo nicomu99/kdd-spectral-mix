{
 "cells": [
  {
   "cell_type": "code",
   "execution_count": 1,
   "metadata": {},
   "outputs": [],
   "source": [
    "from data_utils import DataLoader\n",
    "from spectral_mix import SpectralMix\n",
    "import time\n",
    "from sklearn.metrics import normalized_mutual_info_score, adjusted_rand_score\n",
    "import pandas as pd"
   ]
  },
  {
   "cell_type": "code",
   "execution_count": 3,
   "metadata": {},
   "outputs": [
    {
     "name": "stdout",
     "output_type": "stream",
     "text": [
      "=== acm ===\n",
      "(3025, 3025, 2)\n",
      "(3025, 1870)\n",
      "(3025,)\n"
     ]
    },
    {
     "name": "stderr",
     "output_type": "stream",
     "text": [
      "100%|██████████| 50/50 [01:18<00:00,  1.57s/it]\n"
     ]
    },
    {
     "name": "stdout",
     "output_type": "stream",
     "text": [
      "['acm', 0.40436245227291967, 0.34390319509953093, 78.53478527069092]\n",
      "=== dblp ===\n",
      "(8401, 8401, 4)\n",
      "(8401,)\n"
     ]
    },
    {
     "name": "stderr",
     "output_type": "stream",
     "text": [
      "100%|██████████| 50/50 [01:58<00:00,  2.37s/it]\n"
     ]
    },
    {
     "name": "stdout",
     "output_type": "stream",
     "text": [
      "['dblp', 0.3501433169417014, 0.25891458888567026, 118.45364308357239]\n",
      "=== flickr ===\n",
      "(10364, 10364, 2)\n",
      "(10364,)\n"
     ]
    },
    {
     "name": "stderr",
     "output_type": "stream",
     "text": [
      "100%|██████████| 50/50 [08:30<00:00, 10.20s/it]\n"
     ]
    },
    {
     "name": "stdout",
     "output_type": "stream",
     "text": [
      "['flickr', 0.4919756635370543, 0.35547623426560704, 510.2245271205902]\n",
      "=== imdb ===\n",
      "(3550, 3550, 2)\n",
      "(3550, 2000)\n",
      "(3550,)\n"
     ]
    },
    {
     "name": "stderr",
     "output_type": "stream",
     "text": [
      "100%|██████████| 50/50 [00:28<00:00,  1.77it/s]"
     ]
    },
    {
     "name": "stdout",
     "output_type": "stream",
     "text": [
      "['imdb', 0.0029286854956732415, 0.002837464313851337, 28.270281314849854]\n"
     ]
    },
    {
     "name": "stderr",
     "output_type": "stream",
     "text": [
      "\n"
     ]
    }
   ],
   "source": [
    "dl = DataLoader()\n",
    "\n",
    "test_params = [\n",
    "    {\n",
    "        'dataset_name': 'acm',\n",
    "        'd': 9,\n",
    "        'k': 3\n",
    "    },\n",
    "    {\n",
    "        'dataset_name': 'dblp',\n",
    "        'd': 2,\n",
    "        'k': 3\n",
    "    },\n",
    "    {\n",
    "        'dataset_name': 'flickr',\n",
    "        'd': 11,\n",
    "        'k': 7\n",
    "    },\n",
    "    {\n",
    "        'dataset_name': 'imdb',\n",
    "        'd': 2,\n",
    "        'k': 3\n",
    "    }\n",
    "]\n",
    "\n",
    "test_results = pd.DataFrame(columns=['dataset', 'nmi', 'ari', 'runtime'])\n",
    "for reprod_test in test_params:\n",
    "    dataset_name = reprod_test['dataset_name']\n",
    "    d = reprod_test['d']\n",
    "    k = reprod_test['k']\n",
    "\n",
    "    dataset = dl.load_dataset(dataset_name)\n",
    "    print(f'=== {dataset_name} ===')\n",
    "    print(dataset['adjacency_matrix'].shape)\n",
    "    if not dataset['attribute_matrix'] is None:\n",
    "        print(dataset['attribute_matrix'].shape)\n",
    "    print(dataset['true_labels'].shape)\n",
    "\n",
    "    sm = SpectralMix(adjacency_matrix=dataset['adjacency_matrix'], attribute_matrix=dataset['attribute_matrix'], d=d, k=k)\n",
    "    begin = time.time()\n",
    "    sm.fit(run_clustering=False)\n",
    "    end = time.time()\n",
    "\n",
    "    labels = sm.predict()\n",
    "    nmi = normalized_mutual_info_score(dataset['true_labels'], labels)\n",
    "    ari = adjusted_rand_score(dataset['true_labels'], labels)\n",
    "\n",
    "    result = []\n",
    "    result.append(dataset_name)\n",
    "    result.append(nmi)\n",
    "    result.append(ari)\n",
    "    result.append(end - begin)\n",
    "    test_results.loc[len(test_results)] = result\n",
    "\n",
    "    print(result)\n",
    "\n",
    "test_results.to_csv('test_results/reproducability_test.csv')"
   ]
  },
  {
   "cell_type": "code",
   "execution_count": null,
   "metadata": {},
   "outputs": [],
   "source": []
  }
 ],
 "metadata": {
  "kernelspec": {
   "display_name": "base",
   "language": "python",
   "name": "python3"
  },
  "language_info": {
   "codemirror_mode": {
    "name": "ipython",
    "version": 3
   },
   "file_extension": ".py",
   "mimetype": "text/x-python",
   "name": "python",
   "nbconvert_exporter": "python",
   "pygments_lexer": "ipython3",
   "version": "3.12.2"
  }
 },
 "nbformat": 4,
 "nbformat_minor": 2
}
