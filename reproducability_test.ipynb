{
 "cells": [
  {
   "cell_type": "code",
   "execution_count": 26,
   "metadata": {},
   "outputs": [],
   "source": [
    "from data_utils import DataLoader\n",
    "from spectral_mix import SpectralMix\n",
    "import time\n",
    "from sklearn.metrics import normalized_mutual_info_score, adjusted_rand_score\n",
    "import pandas as pd"
   ]
  },
  {
   "cell_type": "code",
   "execution_count": 44,
   "metadata": {},
   "outputs": [
    {
     "name": "stdout",
     "output_type": "stream",
     "text": [
      "=== imdb ===\n",
      "(3550, 3550, 2)\n",
      "(3550, 2000)\n",
      "(3550,)\n"
     ]
    },
    {
     "name": "stderr",
     "output_type": "stream",
     "text": [
      "100%|██████████| 100/100 [00:54<00:00,  1.84it/s]"
     ]
    },
    {
     "name": "stdout",
     "output_type": "stream",
     "text": [
      "['imdb', 0.002845453447688705, 0.001299650749314584, 54.57835626602173]\n"
     ]
    },
    {
     "name": "stderr",
     "output_type": "stream",
     "text": [
      "\n"
     ]
    }
   ],
   "source": [
    "dl = DataLoader()\n",
    "\n",
    "test_params = [\n",
    "    {\n",
    "        'dataset_name': 'acm',\n",
    "        'd': 9,\n",
    "        'k': 3\n",
    "    },\n",
    "    {\n",
    "        'dataset_name': 'dblp',\n",
    "        'd': 2,\n",
    "        'k': 3\n",
    "    },\n",
    "    {\n",
    "        'dataset_name': 'flickr',\n",
    "        'd': 11,\n",
    "        'k': 7\n",
    "    },\n",
    "    {\n",
    "        'dataset_name': 'imdb',\n",
    "        'd': 2,\n",
    "        'k': 3\n",
    "    }\n",
    "]\n",
    "\n",
    "test_results = pd.DataFrame(columns=['dataset', 'nmi', 'ari', 'runtime'])\n",
    "for reprod_test in test_params:\n",
    "    dataset_name = reprod_test['dataset_name']\n",
    "    d = reprod_test['d']\n",
    "    k = reprod_test['k']\n",
    "\n",
    "    dataset = dl.load_dataset(dataset_name)\n",
    "    print(f'=== {dataset_name} ===')\n",
    "    print(dataset['adjacency_matrix'].shape)\n",
    "    if not dataset['attribute_matrix'] is None:\n",
    "        print(dataset['attribute_matrix'].shape)\n",
    "    print(dataset['true_labels'].shape)\n",
    "\n",
    "    begin = time.time()\n",
    "    sm = SpectralMix(d=d, k=k)\n",
    "    sm.fit(dataset['adjacency_matrix'], dataset['attribute_matrix'])\n",
    "    end = time.time()\n",
    "\n",
    "    labels = sm.labels_\n",
    "    nmi = normalized_mutual_info_score(dataset['true_labels'], labels)\n",
    "    ari = adjusted_rand_score(dataset['true_labels'], labels)\n",
    "\n",
    "    result = []\n",
    "    result.append(dataset_name)\n",
    "    result.append(nmi)\n",
    "    result.append(ari)\n",
    "    result.append(end - begin)\n",
    "    test_results.loc[len(test_results)] = result\n",
    "\n",
    "    print(result)\n",
    "\n",
    "test_results.to_csv('test_results/reproducability_test.csv')"
   ]
  }
 ],
 "metadata": {
  "kernelspec": {
   "display_name": "base",
   "language": "python",
   "name": "python3"
  },
  "language_info": {
   "codemirror_mode": {
    "name": "ipython",
    "version": 3
   },
   "file_extension": ".py",
   "mimetype": "text/x-python",
   "name": "python",
   "nbconvert_exporter": "python",
   "pygments_lexer": "ipython3",
   "version": "3.12.2"
  }
 },
 "nbformat": 4,
 "nbformat_minor": 2
}
