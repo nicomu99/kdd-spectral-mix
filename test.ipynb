{
 "cells": [
  {
   "cell_type": "code",
   "execution_count": 10,
   "metadata": {},
   "outputs": [],
   "source": [
    "from data_utils import DataLoader"
   ]
  },
  {
   "cell_type": "code",
   "execution_count": 11,
   "metadata": {},
   "outputs": [
    {
     "name": "stdout",
     "output_type": "stream",
     "text": [
      "=== acm ===\n",
      "(3025, 3025, 2)\n",
      "(3025, 1870)\n",
      "(3025,)\n"
     ]
    }
   ],
   "source": [
    "dl = DataLoader()\n",
    "for dataset_name in ['acm', 'dblp', 'flickr', 'imdb']:\n",
    "    dataset = dl.load_dataset(dataset_name)\n",
    "    print(f'=== {dataset_name} ===')\n",
    "    print(dataset['adjacency_matrix'].shape)\n",
    "    if not dataset['attribute_matrix'] is None:\n",
    "        print(dataset['attribute_matrix'].shape)\n",
    "    print(dataset['true_labels'].shape)"
   ]
  },
  {
   "cell_type": "code",
   "execution_count": null,
   "metadata": {},
   "outputs": [],
   "source": []
  }
 ],
 "metadata": {
  "kernelspec": {
   "display_name": "base",
   "language": "python",
   "name": "python3"
  },
  "language_info": {
   "codemirror_mode": {
    "name": "ipython",
    "version": 3
   },
   "file_extension": ".py",
   "mimetype": "text/x-python",
   "name": "python",
   "nbconvert_exporter": "python",
   "pygments_lexer": "ipython3",
   "version": "3.12.2"
  }
 },
 "nbformat": 4,
 "nbformat_minor": 2
}
