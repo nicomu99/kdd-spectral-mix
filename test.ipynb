{
 "cells": [
  {
   "cell_type": "code",
   "execution_count": 7,
   "metadata": {},
   "outputs": [],
   "source": [
    "import scipy.io\n",
    "import numpy as np"
   ]
  },
  {
   "cell_type": "code",
   "execution_count": 188,
   "metadata": {},
   "outputs": [],
   "source": [
    "def construct_adjacency_matrix(edge_list, graph_size):\n",
    "    max_index = np.max(edge_list)\n",
    "    n = max_index + 1\n",
    "    if graph_size > n:\n",
    "        n = graph_size\n",
    "\n",
    "    adjacency_matrix = np.zeros((n, n), dtype=np.int32)\n",
    "    for edge in edge_list:\n",
    "        weight = 1\n",
    "        if len(edge) > 2:\n",
    "            weight = edge[2]\n",
    "        adjacency_matrix[edge[0], edge[1]] = weight\n",
    "        adjacency_matrix[edge[1], edge[0]] = weight\n",
    "\n",
    "    return adjacency_matrix\n",
    "\n",
    "def read_matrix(path):\n",
    "    matrix = scipy.io.loadmat(path)\n",
    "    for key in matrix.keys():\n",
    "        if not key.startswith('__'):\n",
    "            return matrix[key].astype(int)\n",
    "    raise TypeError('Matrix not found!')\n",
    "\n",
    "def construct_matrix(dataset, file_names=[], graph_size=0, construct_adjacency=True):\n",
    "    true_labels = np.loadtxt(f'data/{dataset}/ground_truth.txt')\n",
    "    if dataset == 'imdb':\n",
    "        imdb = scipy.io.loadmat('data/imdb/imdb.mat')\n",
    "        return np.stack((imdb['MAM'], imdb['MDM']), axis=-1), imdb['feature'], true_labels\n",
    "    loaded_matrices = []\n",
    "    for file in file_names:\n",
    "        layer = read_matrix(f'data/{dataset}/{file}.mat')\n",
    "        if construct_adjacency:\n",
    "            loaded_matrices.append(construct_adjacency_matrix(layer, graph_size))\n",
    "        else:\n",
    "            loaded_matrices.append(layer)\n",
    "\n",
    "    if len(loaded_matrices) > 1:\n",
    "        return np.stack(loaded_matrices, axis=-1), true_labels\n",
    "    return np.array(loaded_matrices[0]), true_labels"
   ]
  },
  {
   "cell_type": "code",
   "execution_count": 189,
   "metadata": {},
   "outputs": [
    {
     "name": "stdout",
     "output_type": "stream",
     "text": [
      "(3025, 3025, 2)\n",
      "(3025, 1870)\n",
      "(3025,)\n"
     ]
    }
   ],
   "source": [
    "acm, true_labels = construct_matrix('acm', ['PAP', 'PLP'], construct_adjacency=False)\n",
    "acm_attributes, _ = construct_matrix('acm', ['feature'], construct_adjacency=False)\n",
    "print(acm.shape)\n",
    "print(acm_attributes.shape)\n",
    "print(true_labels.shape)"
   ]
  },
  {
   "cell_type": "code",
   "execution_count": 190,
   "metadata": {},
   "outputs": [
    {
     "name": "stdout",
     "output_type": "stream",
     "text": [
      "(8401, 8401, 4)\n",
      "(8401,)\n"
     ]
    }
   ],
   "source": [
    "dblp, true_labels = construct_matrix('dblp', ['APNet', 'citation', 'co_citation', 'coauthorNet'], 8401)\n",
    "print(dblp.shape)\n",
    "print(true_labels.shape)"
   ]
  },
  {
   "cell_type": "code",
   "execution_count": 191,
   "metadata": {},
   "outputs": [
    {
     "name": "stdout",
     "output_type": "stream",
     "text": [
      "(10364, 10364, 2)\n",
      "(10364,)\n"
     ]
    }
   ],
   "source": [
    "flickr, true_labels = construct_matrix('flickr', ['layer0', 'layer1'])\n",
    "print(flickr.shape)\n",
    "print(true_labels.shape)"
   ]
  },
  {
   "cell_type": "code",
   "execution_count": 192,
   "metadata": {},
   "outputs": [
    {
     "name": "stdout",
     "output_type": "stream",
     "text": [
      "(3550, 3550, 2)\n",
      "(3550, 2000)\n",
      "(3550,)\n"
     ]
    }
   ],
   "source": [
    "imdb, imdb_attributes, true_labels = construct_matrix('imdb', [])\n",
    "print(imdb.shape)\n",
    "print(imdb_attributes.shape)\n",
    "print(true_labels.shape)"
   ]
  }
 ],
 "metadata": {
  "kernelspec": {
   "display_name": "base",
   "language": "python",
   "name": "python3"
  },
  "language_info": {
   "codemirror_mode": {
    "name": "ipython",
    "version": 3
   },
   "file_extension": ".py",
   "mimetype": "text/x-python",
   "name": "python",
   "nbconvert_exporter": "python",
   "pygments_lexer": "ipython3",
   "version": "3.12.2"
  }
 },
 "nbformat": 4,
 "nbformat_minor": 2
}
