{
 "cells": [
  {
   "cell_type": "code",
   "execution_count": 1,
   "metadata": {},
   "outputs": [],
   "source": [
    "from data_utils import DataLoader\n",
    "from spectral_mix import SpectralMix"
   ]
  },
  {
   "cell_type": "code",
   "execution_count": 3,
   "metadata": {},
   "outputs": [
    {
     "name": "stdout",
     "output_type": "stream",
     "text": [
      "=== Starting First Test acm ===\n",
      "(3740, 9)\n"
     ]
    },
    {
     "name": "stderr",
     "output_type": "stream",
     "text": [
      "  4%|▍         | 2/50 [00:05<02:02,  2.54s/it]\n"
     ]
    },
    {
     "ename": "KeyboardInterrupt",
     "evalue": "",
     "output_type": "error",
     "traceback": [
      "\u001b[0;31m---------------------------------------------------------------------------\u001b[0m",
      "\u001b[0;31mKeyboardInterrupt\u001b[0m                         Traceback (most recent call last)",
      "Cell \u001b[0;32mIn[3], line 34\u001b[0m\n\u001b[1;32m     32\u001b[0m \u001b[38;5;28mprint\u001b[39m(\u001b[38;5;124mf\u001b[39m\u001b[38;5;124m'\u001b[39m\u001b[38;5;124m=== Starting First Test \u001b[39m\u001b[38;5;132;01m{\u001b[39;00mdataset_name\u001b[38;5;132;01m}\u001b[39;00m\u001b[38;5;124m ===\u001b[39m\u001b[38;5;124m'\u001b[39m)\n\u001b[1;32m     33\u001b[0m sm \u001b[38;5;241m=\u001b[39m SpectralMix(adjacency_matrix\u001b[38;5;241m=\u001b[39mdataset[\u001b[38;5;124m'\u001b[39m\u001b[38;5;124madjacency_matrix\u001b[39m\u001b[38;5;124m'\u001b[39m], attribute_matrix\u001b[38;5;241m=\u001b[39mdataset[\u001b[38;5;124m'\u001b[39m\u001b[38;5;124mattribute_matrix\u001b[39m\u001b[38;5;124m'\u001b[39m], d\u001b[38;5;241m=\u001b[39md, k\u001b[38;5;241m=\u001b[39mk)\n\u001b[0;32m---> 34\u001b[0m sm \u001b[38;5;241m=\u001b[39m \u001b[43msm\u001b[49m\u001b[38;5;241;43m.\u001b[39;49m\u001b[43mfit\u001b[49m\u001b[43m(\u001b[49m\u001b[43mrun_clustering\u001b[49m\u001b[38;5;241;43m=\u001b[39;49m\u001b[38;5;28;43;01mTrue\u001b[39;49;00m\u001b[43m)\u001b[49m\n",
      "File \u001b[0;32m~/VSCodeRepos/kdd-implementation/spectral_mix.py:103\u001b[0m, in \u001b[0;36mSpectralMix.fit\u001b[0;34m(self, run_clustering)\u001b[0m\n\u001b[1;32m    101\u001b[0m                 filtered_o \u001b[38;5;241m=\u001b[39m \u001b[38;5;28mself\u001b[39m\u001b[38;5;241m.\u001b[39mo[mask_j, l]\n\u001b[1;32m    102\u001b[0m                 sum_filtered_o \u001b[38;5;241m=\u001b[39m np\u001b[38;5;241m.\u001b[39msum(filtered_o)\n\u001b[0;32m--> 103\u001b[0m                 \u001b[38;5;28mself\u001b[39m\u001b[38;5;241m.\u001b[39mm[j \u001b[38;5;241m+\u001b[39m attr_index, l] \u001b[38;5;241m+\u001b[39m\u001b[38;5;241m=\u001b[39m sum_filtered_o \u001b[38;5;241m/\u001b[39m \u001b[38;5;28mself\u001b[39m\u001b[38;5;241m.\u001b[39mcount_attr[j][attr_index]\n\u001b[1;32m    105\u001b[0m \u001b[38;5;28;01mif\u001b[39;00m run_clustering:\n\u001b[1;32m    106\u001b[0m     kmeans_model \u001b[38;5;241m=\u001b[39m KMeans(n_clusters\u001b[38;5;241m=\u001b[39m\u001b[38;5;28mself\u001b[39m\u001b[38;5;241m.\u001b[39mk)\u001b[38;5;241m.\u001b[39mfit(\u001b[38;5;28mself\u001b[39m\u001b[38;5;241m.\u001b[39mo)\n",
      "\u001b[0;31mKeyboardInterrupt\u001b[0m: "
     ]
    }
   ],
   "source": [
    "dl = DataLoader()\n",
    "\n",
    "test_params = [\n",
    "    {\n",
    "        'dataset_name': 'acm',\n",
    "        'd': 9,\n",
    "        'k': 3\n",
    "    },\n",
    "    {\n",
    "        'dataset_name': 'dblp',\n",
    "        'd': 2,\n",
    "        'k': 3\n",
    "    },\n",
    "    {\n",
    "        'dataset_name': 'flickr',\n",
    "        'd': 11,\n",
    "        'k': 7\n",
    "    },\n",
    "    {\n",
    "        'dataset_name': 'imdb',\n",
    "        'd': 2,\n",
    "        'k': 3\n",
    "    }\n",
    "]\n",
    "\n",
    "for test_case in test_params[1:]:\n",
    "    dataset_name = test_case['dataset_name']\n",
    "    k = test_case['k']\n",
    "    d = test_case['d']\n",
    "    dataset = dl.load_dataset(dataset_name)\n",
    "\n",
    "    print(f'=== Starting First Test {dataset_name} ===')\n",
    "    sm = SpectralMix(adjacency_matrix=dataset['adjacency_matrix'], attribute_matrix=dataset['attribute_matrix'], d=d, k=k)\n",
    "    sm = sm.fit(run_clustering=True)"
   ]
  },
  {
   "cell_type": "code",
   "execution_count": null,
   "metadata": {},
   "outputs": [],
   "source": []
  }
 ],
 "metadata": {
  "kernelspec": {
   "display_name": "base",
   "language": "python",
   "name": "python3"
  },
  "language_info": {
   "codemirror_mode": {
    "name": "ipython",
    "version": 3
   },
   "file_extension": ".py",
   "mimetype": "text/x-python",
   "name": "python",
   "nbconvert_exporter": "python",
   "pygments_lexer": "ipython3",
   "version": "3.12.2"
  }
 },
 "nbformat": 4,
 "nbformat_minor": 2
}
