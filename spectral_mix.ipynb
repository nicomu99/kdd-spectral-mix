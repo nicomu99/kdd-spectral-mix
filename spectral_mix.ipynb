{
 "cells": [
  {
   "cell_type": "code",
   "execution_count": null,
   "metadata": {},
   "outputs": [],
   "source": [
    "import numpy as np\n",
    "\n",
    "class SpectralMix:\n",
    "    def __init__(self, adjacency_matrix, relationships):\n",
    "        self.nodes = adjacency_matrix[0]\n",
    "\n",
    "def spectral_mix(adjacency_matrix, attributed_matrix, d):\n",
    "    # The adjacency matrix is an nxnxr matrix, where n is the number of nodes and r is the number of relations \n",
    "\n",
    "\n",
    "    num_nodes, _, num_rels = adjacency_matrix.shape             # number of nodes and relation types\n",
    "    \n",
    "    # This implemetation for now assumes undirected graphs\n",
    "    # We therefore store the lower triangular matrix of each dimension to save work later\n",
    "    tril_adj_matrix = np.zeros((num_nodes, num_nodes, num_rels))\n",
    "    for r in range(num_rels):\n",
    "        tril_adj_matrix[:, :, r] = np.tril(adjacency_matrix[:, :, r], -1)\n",
    "\n",
    "    num_attr = attributed_matrix.shape[1]                       # number of attribute categories\n",
    "    count_attr = []                                             # holds the count of each category in each attribute\n",
    "    for i in range(num_attr):\n",
    "        _, counts = np.unique(attributed_matrix[:, i], return_counts=True)\n",
    "        count_attr.append(counts)\n",
    "\n",
    "    o = np.random.randn(size=(num_nodes, d))\n",
    "    m = np.random.randn(size=(num_attr, d))\n",
    "    \n",
    "    weighting_factor = np.zeros(num_rels + num_attr)\n",
    "    sum_weight = np.zeros(num_rels + num_attr)\n",
    "\n",
    "    # Iterate over all edges in each relation type and find the relation type with highest total weight\n",
    "    max_weight = 0\n",
    "    max_index = -1\n",
    "    for r in range(num_rels):\n",
    "        rel_edges = tril_adj_matrix[:, :, r]\n",
    "        sum_weight[r] = np.sum(rel_edges)\n",
    "        if sum_weight[r] > max_weight:\n",
    "            max_weight = sum_weight\n",
    "            max_index = r\n",
    "\n",
    "    # iterate over the number of attributes and the number of distinct categories in each attribute\n",
    "    # take the count of each category as the weight of this category\n",
    "    for a in range(num_attr):\n",
    "        sum_weight[num_rels + a] += sum(count_attr[a])\n",
    "        if sum_weight[num_rels + a] > max_weight:\n",
    "            max_weight = sum_weight\n",
    "            max_index = num_rels + a\n",
    "\n",
    "     \n",
    "    weighting_factor = sum_weight * 1 / max_weight\n",
    "\n",
    "    sum_g = np.zeros(size=(num_nodes,))\n",
    "    for r in range(num_rels):\n",
    "        non_zero = np.count_nonzero(tril_adj_matrix[:, :, r], axis=1)\n",
    "        sum_g += non_zero.reshape(-1, 1) * weighting_factor[r]\n",
    "\n",
    "        for j in range(C):\n",
    "            sum_g[i] += weighting_factor[j + R]\n",
    "\n",
    "\n",
    "    for i in range(n):\n",
    "        for r in range(R):\n",
    "            E = ... # TODO: figure out how to compute E\n",
    "            for p in range(E):\n",
    "                for l in range(d):\n",
    "                    O[i, l] = O[i, l] + a[r] * w[i, p] * sum_g[i] # TODO: figure out a, w and sum\n",
    "        for j in range(C):\n",
    "            for l in range(d):\n",
    "                O[i, l] = O[i, l] + a[i] + m[j, l] / sum_a[i]\n",
    "    # TODO: apply orthonormalization\n",
    "    for i in range(n):\n",
    "        for l in range(d):\n",
    "            for j in range(C):\n",
    "                M[j, l] = M[j, l] + O[i, l] + tot[j]"
   ]
  },
  {
   "cell_type": "code",
   "execution_count": null,
   "metadata": {},
   "outputs": [
    {
     "ename": "",
     "evalue": "",
     "output_type": "error",
     "traceback": [
      "\u001b[1;31mRunning cells with 'base (Python 3.12.2)' requires the ipykernel package.\n",
      "\u001b[1;31mRun the following command to install 'ipykernel' into the Python environment. \n",
      "\u001b[1;31mCommand: 'conda install -n base ipykernel --update-deps --force-reinstall'"
     ]
    }
   ],
   "source": [
    "pip install numpy"
   ]
  },
  {
   "cell_type": "code",
   "execution_count": null,
   "metadata": {},
   "outputs": [
    {
     "ename": "",
     "evalue": "",
     "output_type": "error",
     "traceback": [
      "\u001b[1;31mRunning cells with 'base (Python 3.12.2)' requires the ipykernel package.\n",
      "\u001b[1;31mRun the following command to install 'ipykernel' into the Python environment. \n",
      "\u001b[1;31mCommand: 'conda install -n base ipykernel --update-deps --force-reinstall'"
     ]
    }
   ],
   "source": [
    "ipykernel"
   ]
  },
  {
   "cell_type": "code",
   "execution_count": null,
   "metadata": {},
   "outputs": [],
   "source": []
  }
 ],
 "metadata": {
  "kernelspec": {
   "display_name": "base",
   "language": "python",
   "name": "python3"
  },
  "language_info": {
   "name": "python",
   "version": "3.12.2"
  }
 },
 "nbformat": 4,
 "nbformat_minor": 2
}
